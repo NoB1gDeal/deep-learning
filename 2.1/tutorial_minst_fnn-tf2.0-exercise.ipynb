{
 "cells": [
  {
   "cell_type": "code",
   "execution_count": 1,
   "id": "525d8df6-d146-4c2e-979e-a2d9f9030e46",
   "metadata": {},
   "outputs": [],
   "source": [
    "import os\n",
    "import numpy as np\n",
    "import tensorflow as tf\n",
    "from tensorflow import keras\n",
    "from tensorflow.keras import layers, optimizers, datasets\n",
    "\n",
    "os.environ['TF_CPP_MIN_LOG_LEVEL'] = '2'  # or any {'0', '1', '2'}\n",
    "\n",
    "def mnist_dataset():\n",
    "    (x, y), (x_test, y_test) = datasets.mnist.load_data()\n",
    "    #normalize\n",
    "    x = x/255.0\n",
    "    x_test = x_test/255.0\n",
    "\n",
    "    return (x, y), (x_test, y_test)"
   ]
  },
  {
   "cell_type": "code",
   "execution_count": 5,
   "id": "8f17ffb8-eab9-42c6-a1e8-2fb5e2077db7",
   "metadata": {},
   "outputs": [
    {
     "name": "stdout",
     "output_type": "stream",
     "text": [
      "[(1, 'a'), (2, 'b'), (3, 'c'), (4, 'd')]\n"
     ]
    }
   ],
   "source": [
    "print(list(zip([1, 2, 3, 4], ['a', 'b', 'c', 'd'])))"
   ]
  },
  {
   "cell_type": "code",
   "execution_count": 2,
   "id": "548af283-5915-4e0b-b1fd-e8bb7895ca6c",
   "metadata": {},
   "outputs": [],
   "source": [
    "class myModel:\n",
    "    def __init__(self):\n",
    "        ####################\n",
    "        '''声明模型对应的参数'''\n",
    "        self.W1 = tf.Variable(tf.random.normal(shape=(28 * 28, 128), stddev=0.01), trainable=True)\n",
    "        self.b1 = tf.Variable(tf.zeros(shape=(128,)), trainable=True)\n",
    "        self.W2 = tf.Variable(tf.random.normal(shape=(128, 10), stddev=0.01), trainable=True)\n",
    "        self.b2 = tf.Variable(tf.zeros(shape=(10,)), trainable=True)\n",
    "        ####################\n",
    "    def __call__(self, x):\n",
    "        ####################\n",
    "        '''实现模型函数体，返回未归一化的logits'''\n",
    "        ####################\n",
    "        x_flattened = tf.reshape(x, [-1, 784])\n",
    "        h1 = tf.matmul(x_flattened, self.W1) + self.b1\n",
    "        activated_h1 = tf.tanh(h1)\n",
    "        logits = tf.matmul(activated_h1, self.W2) + self.b2\n",
    "        return logits\n",
    "\n",
    "model = myModel()\n",
    "\n",
    "optimizer = optimizers.Adam()"
   ]
  },
  {
   "cell_type": "code",
   "execution_count": 3,
   "id": "4cecbb95-77c5-4b83-abfa-588fe5618daa",
   "metadata": {},
   "outputs": [],
   "source": [
    "@tf.function\n",
    "def compute_loss(logits, labels):\n",
    "    return tf.reduce_mean(\n",
    "        tf.nn.sparse_softmax_cross_entropy_with_logits(\n",
    "            logits=logits, labels=labels))\n",
    "\n",
    "@tf.function\n",
    "def compute_accuracy(logits, labels):\n",
    "    predictions = tf.argmax(logits, axis=1)\n",
    "    return tf.reduce_mean(tf.cast(tf.equal(predictions, labels), tf.float32))\n",
    "\n",
    "@tf.function\n",
    "def train_one_step(model, optimizer, x, y):\n",
    "    with tf.GradientTape() as tape:\n",
    "        logits = model(x)\n",
    "        loss = compute_loss(logits, y)\n",
    "\n",
    "    # compute gradient\n",
    "    trainable_vars = [model.W1, model.W2, model.b1, model.b2]\n",
    "    grads = tape.gradient(loss, trainable_vars)\n",
    "    for g, v in zip(grads, trainable_vars):\n",
    "        v.assign_sub(0.01*g)\n",
    "\n",
    "    accuracy = compute_accuracy(logits, y)\n",
    "\n",
    "    # loss and accuracy is scalar tensor\n",
    "    return loss, accuracy\n",
    "\n",
    "@tf.function\n",
    "def test(model, x, y):\n",
    "    logits = model(x)\n",
    "    loss = compute_loss(logits, y)\n",
    "    accuracy = compute_accuracy(logits, y)\n",
    "    return loss, accuracy"
   ]
  },
  {
   "cell_type": "code",
   "execution_count": 8,
   "id": "09e1d7a7-45d4-438b-ba31-d9a579db288e",
   "metadata": {},
   "outputs": [
    {
     "name": "stdout",
     "output_type": "stream",
     "text": [
      "epoch 0 : loss 2.2183914 ; accuracy 0.61535\n",
      "epoch 1 : loss 2.2176483 ; accuracy 0.6153\n",
      "epoch 2 : loss 2.2168994 ; accuracy 0.61555\n",
      "epoch 3 : loss 2.2161453 ; accuracy 0.61581665\n",
      "epoch 4 : loss 2.215386 ; accuracy 0.61585\n",
      "epoch 5 : loss 2.2146208 ; accuracy 0.61618334\n",
      "epoch 6 : loss 2.21385 ; accuracy 0.6165\n",
      "epoch 7 : loss 2.213074 ; accuracy 0.6167333\n",
      "epoch 8 : loss 2.2122922 ; accuracy 0.61681664\n",
      "epoch 9 : loss 2.211505 ; accuracy 0.61721665\n",
      "epoch 10 : loss 2.210712 ; accuracy 0.61755\n",
      "epoch 11 : loss 2.209913 ; accuracy 0.61775\n",
      "epoch 12 : loss 2.2091086 ; accuracy 0.61791664\n",
      "epoch 13 : loss 2.2082984 ; accuracy 0.61808336\n",
      "epoch 14 : loss 2.2074823 ; accuracy 0.61841667\n",
      "epoch 15 : loss 2.2066605 ; accuracy 0.61838335\n",
      "epoch 16 : loss 2.2058322 ; accuracy 0.61841667\n",
      "epoch 17 : loss 2.2049985 ; accuracy 0.6185\n",
      "epoch 18 : loss 2.2041588 ; accuracy 0.61855\n",
      "epoch 19 : loss 2.203313 ; accuracy 0.61863333\n",
      "epoch 20 : loss 2.2024615 ; accuracy 0.61865\n",
      "epoch 21 : loss 2.2016034 ; accuracy 0.6185667\n",
      "epoch 22 : loss 2.2007394 ; accuracy 0.6188167\n",
      "epoch 23 : loss 2.1998692 ; accuracy 0.6189167\n",
      "epoch 24 : loss 2.198993 ; accuracy 0.61901665\n",
      "epoch 25 : loss 2.1981103 ; accuracy 0.61915\n",
      "epoch 26 : loss 2.1972215 ; accuracy 0.6192833\n",
      "epoch 27 : loss 2.1963265 ; accuracy 0.6194\n",
      "epoch 28 : loss 2.195425 ; accuracy 0.6196167\n",
      "epoch 29 : loss 2.194517 ; accuracy 0.6196167\n",
      "epoch 30 : loss 2.1936026 ; accuracy 0.61976665\n",
      "epoch 31 : loss 2.1926818 ; accuracy 0.61986667\n",
      "epoch 32 : loss 2.1917546 ; accuracy 0.6199667\n",
      "epoch 33 : loss 2.190821 ; accuracy 0.62008333\n",
      "epoch 34 : loss 2.1898808 ; accuracy 0.62011665\n",
      "epoch 35 : loss 2.1889338 ; accuracy 0.62025\n",
      "epoch 36 : loss 2.1879802 ; accuracy 0.62035\n",
      "epoch 37 : loss 2.1870198 ; accuracy 0.62043333\n",
      "epoch 38 : loss 2.186053 ; accuracy 0.62056667\n",
      "epoch 39 : loss 2.185079 ; accuracy 0.6205\n",
      "epoch 40 : loss 2.1840985 ; accuracy 0.6206\n",
      "epoch 41 : loss 2.1831114 ; accuracy 0.6206833\n",
      "epoch 42 : loss 2.1821172 ; accuracy 0.62083334\n",
      "epoch 43 : loss 2.181116 ; accuracy 0.621\n",
      "epoch 44 : loss 2.180108 ; accuracy 0.6212\n",
      "epoch 45 : loss 2.179093 ; accuracy 0.6213667\n",
      "epoch 46 : loss 2.178071 ; accuracy 0.62151664\n",
      "epoch 47 : loss 2.177042 ; accuracy 0.6217\n",
      "epoch 48 : loss 2.176006 ; accuracy 0.62191665\n",
      "epoch 49 : loss 2.1749628 ; accuracy 0.62201667\n",
      "test loss 2.171282 ; accuracy 0.6309\n"
     ]
    }
   ],
   "source": [
    "train_data, test_data = mnist_dataset()\n",
    "for epoch in range(50):\n",
    "    loss, accuracy = train_one_step(model, optimizer,\n",
    "                                    tf.constant(train_data[0], dtype=tf.float32),\n",
    "                                    tf.constant(train_data[1], dtype=tf.int64))\n",
    "    print('epoch', epoch, ': loss', loss.numpy(), '; accuracy', accuracy.numpy())\n",
    "loss, accuracy = test(model,\n",
    "                      tf.constant(test_data[0], dtype=tf.float32),\n",
    "                      tf.constant(test_data[1], dtype=tf.int64))\n",
    "\n",
    "\n",
    "\n",
    "print('test loss', loss.numpy(), '; accuracy', accuracy.numpy())"
   ]
  },
  {
   "cell_type": "code",
   "execution_count": null,
   "id": "42f3cd24-753f-4945-8fd0-e0371ad57ae8",
   "metadata": {},
   "outputs": [],
   "source": []
  }
 ],
 "metadata": {
  "kernelspec": {
   "display_name": "Python 3 (ipykernel)",
   "language": "python",
   "name": "python3"
  },
  "language_info": {
   "codemirror_mode": {
    "name": "ipython",
    "version": 3
   },
   "file_extension": ".py",
   "mimetype": "text/x-python",
   "name": "python",
   "nbconvert_exporter": "python",
   "pygments_lexer": "ipython3",
   "version": "3.12.7"
  }
 },
 "nbformat": 4,
 "nbformat_minor": 5
}
