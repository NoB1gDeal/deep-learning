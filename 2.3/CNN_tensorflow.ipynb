{
 "cells": [
  {
   "cell_type": "code",
   "execution_count": 2,
   "id": "e4a29786-0130-4c8d-ab13-09c2ecfe367e",
   "metadata": {},
   "outputs": [
    {
     "name": "stderr",
     "output_type": "stream",
     "text": [
      "C:\\Anaconda3\\envs\\myenv\\Lib\\site-packages\\keras\\src\\layers\\convolutional\\base_conv.py:107: UserWarning: Do not pass an `input_shape`/`input_dim` argument to a layer. When using Sequential models, prefer using an `Input(shape)` object as the first layer in the model instead.\n",
      "  super().__init__(activity_regularizer=activity_regularizer, **kwargs)\n"
     ]
    },
    {
     "name": "stdout",
     "output_type": "stream",
     "text": [
      "Epoch 0, Test accuracy: 0.1660\n",
      "Epoch 100, Test accuracy: 0.8650\n",
      "Epoch 200, Test accuracy: 0.9230\n",
      "Epoch 300, Test accuracy: 0.9360\n",
      "Epoch 400, Test accuracy: 0.9530\n",
      "Epoch 500, Test accuracy: 0.9550\n",
      "Epoch 600, Test accuracy: 0.9650\n",
      "Epoch 700, Test accuracy: 0.9720\n",
      "Epoch 800, Test accuracy: 0.9720\n",
      "Epoch 900, Test accuracy: 0.9740\n",
      "Epoch 1000, Test accuracy: 0.9780\n",
      "Epoch 1100, Test accuracy: 0.9820\n",
      "Epoch 1200, Test accuracy: 0.9820\n",
      "Epoch 1300, Test accuracy: 0.9790\n",
      "Epoch 1400, Test accuracy: 0.9800\n",
      "Epoch 1500, Test accuracy: 0.9840\n",
      "Epoch 1600, Test accuracy: 0.9820\n",
      "Epoch 1700, Test accuracy: 0.9870\n",
      "Epoch 1800, Test accuracy: 0.9820\n",
      "Epoch 1900, Test accuracy: 0.9860\n"
     ]
    }
   ],
   "source": [
    "import tensorflow as tf\n",
    "import numpy as np\n",
    "\n",
    "# Load MNIST dataset using tf.keras\n",
    "(x_train, y_train), (x_test, y_test) = tf.keras.datasets.mnist.load_data()\n",
    "\n",
    "# Reshape and normalize the data\n",
    "x_train = x_train.reshape(-1, 28, 28, 1).astype('float32') / 255.0\n",
    "x_test = x_test.reshape(-1, 28, 28, 1).astype('float32') / 255.0\n",
    "\n",
    "# One-hot encode the labels\n",
    "y_train = tf.keras.utils.to_categorical(y_train, 10)\n",
    "y_test = tf.keras.utils.to_categorical(y_test, 10)\n",
    "\n",
    "# Parameters\n",
    "learning_rate = 1e-4\n",
    "keep_prob_rate = 0.7\n",
    "max_epoch = 2000\n",
    "batch_size = 100\n",
    "\n",
    "# Define the model using tf.keras\n",
    "model = tf.keras.Sequential([\n",
    "    # Convolutional Layer 1\n",
    "    tf.keras.layers.Conv2D(32, (7, 7), padding='same', activation='relu', input_shape=(28, 28, 1)),\n",
    "    tf.keras.layers.MaxPooling2D(pool_size=(2, 2), strides=(2, 2), padding='same'),\n",
    "\n",
    "    # Convolutional Layer 2\n",
    "    tf.keras.layers.Conv2D(64, (5, 5), padding='same', activation='relu'),\n",
    "    tf.keras.layers.MaxPooling2D(pool_size=(2, 2), strides=(2, 2), padding='same'),\n",
    "\n",
    "    # Flatten layer\n",
    "    tf.keras.layers.Flatten(),\n",
    "\n",
    "    # Fully connected layer 1\n",
    "    tf.keras.layers.Dense(1024, activation='relu'),\n",
    "    tf.keras.layers.Dropout(1 - keep_prob_rate),\n",
    "\n",
    "    # Output layer\n",
    "    tf.keras.layers.Dense(10, activation='softmax')\n",
    "])\n",
    "\n",
    "# Compile the model\n",
    "model.compile(\n",
    "    optimizer=tf.keras.optimizers.Adam(learning_rate=learning_rate),\n",
    "    loss='categorical_crossentropy',\n",
    "    metrics=['accuracy']\n",
    ")\n",
    "\n",
    "\n",
    "# Define a function to evaluate on test data\n",
    "def compute_accuracy(model, x_test, y_test):\n",
    "    _, accuracy = model.evaluate(x_test, y_test, verbose=0)\n",
    "    return accuracy\n",
    "\n",
    "\n",
    "# Training loop\n",
    "for i in range(max_epoch):\n",
    "    # Randomly select batch_size samples\n",
    "    indices = np.random.randint(0, len(x_train), batch_size)\n",
    "    batch_xs = x_train[indices]\n",
    "    batch_ys = y_train[indices]\n",
    "\n",
    "    # Train on batch\n",
    "    model.train_on_batch(batch_xs, batch_ys)\n",
    "\n",
    "    # Print accuracy every 100 epochs\n",
    "    if i % 100 == 0:\n",
    "        accuracy = compute_accuracy(model, x_test[:1000], y_test[:1000])\n",
    "        print(f\"Epoch {i}, Test accuracy: {accuracy:.4f}\")"
   ]
  },
  {
   "cell_type": "code",
   "execution_count": null,
   "id": "d3526d48-087b-430e-9a82-35adce9b8e4d",
   "metadata": {},
   "outputs": [],
   "source": []
  }
 ],
 "metadata": {
  "kernelspec": {
   "display_name": "Python 3 (ipykernel)",
   "language": "python",
   "name": "python3"
  },
  "language_info": {
   "codemirror_mode": {
    "name": "ipython",
    "version": 3
   },
   "file_extension": ".py",
   "mimetype": "text/x-python",
   "name": "python",
   "nbconvert_exporter": "python",
   "pygments_lexer": "ipython3",
   "version": "3.12.7"
  }
 },
 "nbformat": 4,
 "nbformat_minor": 5
}
